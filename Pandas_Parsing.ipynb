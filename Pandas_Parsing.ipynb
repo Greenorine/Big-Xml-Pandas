{
  "nbformat": 4,
  "nbformat_minor": 0,
  "metadata": {
    "colab": {
      "name": "Untitled0.ipynb",
      "provenance": []
    },
    "kernelspec": {
      "name": "python3",
      "display_name": "Python 3"
    },
    "language_info": {
      "name": "python"
    }
  },
  "cells": [
    {
      "cell_type": "code",
      "execution_count": 18,
      "metadata": {
        "id": "U7TAPiLmdIEN"
      },
      "outputs": [],
      "source": [
        "import pandas as pd"
      ]
    },
    {
      "cell_type": "code",
      "source": [
        "works = pd.read_csv(\"works.csv\").dropna()"
      ],
      "metadata": {
        "id": "4fj-4tYndYYq"
      },
      "execution_count": 19,
      "outputs": []
    },
    {
      "cell_type": "code",
      "source": [
        "# Проверяем совпадения\n",
        "def find_match(first_field, second_field):\n",
        "    array = first_field.lower().replace('-', ' ').split()\n",
        "    for word in array:\n",
        "        if word in second_field.lower():\n",
        "            return True\n",
        "    return False\n",
        "\n",
        "\n",
        "# Посчитаем количество людей, у которых значение первого поля не совпадает со вторым\n",
        "def count_people_not_match(first_field, second_field, data):\n",
        "    result = 0\n",
        "    for (f1, f2) in zip(data[first_field], data[second_field]):\n",
        "        if not find_match(f1, f2) and not find_match(f2, f1):\n",
        "            result += 1\n",
        "    return result\n",
        "\n",
        "\n",
        "print(count_people_not_match(\"jobTitle\", \"qualification\", works))"
      ],
      "metadata": {
        "colab": {
          "base_uri": "https://localhost:8080/"
        },
        "id": "1SLVMplGghhf",
        "outputId": "4e9bef43-8b25-48db-b31d-c5e4cc68615c"
      },
      "execution_count": 22,
      "outputs": [
        {
          "output_type": "stream",
          "name": "stdout",
          "text": [
            "793\n"
          ]
        }
      ]
    },
    {
      "cell_type": "code",
      "source": [
        "# Составляем топ по значению второго поля, которое содержится в первом\n",
        "def top(buffer, data, first_field, second_field, search):\n",
        "    return data[data[first_field].str.lower().str.contains(\n",
        "        search[:-2])][second_field].str.lower().value_counts().head(buffer)\n",
        "\n",
        "\n",
        "print(top(10, works, \"jobTitle\", \"qualification\", \"менеджер\"))"
      ],
      "metadata": {
        "colab": {
          "base_uri": "https://localhost:8080/"
        },
        "id": "sB57H-7Mg9sr",
        "outputId": "42253132-da0b-4eb7-c12f-8696f9be0ddb"
      },
      "execution_count": 24,
      "outputs": [
        {
          "output_type": "stream",
          "name": "stdout",
          "text": [
            "бакалавр              11\n",
            "менеджер              10\n",
            "экономист              6\n",
            "специалист             6\n",
            "экономист-менеджер     4\n",
            "инженер                3\n",
            "магистр                3\n",
            "юрист                  2\n",
            "филолог                2\n",
            "4 разряд               2\n",
            "Name: qualification, dtype: int64\n"
          ]
        }
      ]
    },
    {
      "cell_type": "code",
      "source": [
        "# Выводим необходимые пункты исходя из ДЗ\n",
        "job_field = \"jobTitle\"\n",
        "qualification_field = \"qualification\"\n",
        "print(\"Профессия и должность не совпадает у {} людей из {}\".format(count_people_not_match(job_field, qualification_field, works), works.shape[0]))\n",
        "\n",
        "print(\"\\nТоп по образованиям менеджеров\")\n",
        "print(top(5, works, job_field, qualification_field, \"менеджер\"))\n",
        "\n",
        "print(\"\\nТоп по должностям инженеров\")\n",
        "print(top(5, works, qualification_field, job_field, \"инженер\"))"
      ],
      "metadata": {
        "colab": {
          "base_uri": "https://localhost:8080/"
        },
        "id": "5oK0uKRmeuK6",
        "outputId": "e01a9a91-2103-4c42-9103-9057cb77ccba"
      },
      "execution_count": 25,
      "outputs": [
        {
          "output_type": "stream",
          "name": "stdout",
          "text": [
            "Профессия и должность не совпадает у 793 людей из 1068\n",
            "\n",
            "Топ по образованиям менеджеров\n",
            "бакалавр              11\n",
            "менеджер              10\n",
            "экономист              6\n",
            "специалист             6\n",
            "экономист-менеджер     4\n",
            "Name: qualification, dtype: int64\n",
            "\n",
            "Топ по должностям инженеров\n",
            "заместитель директора     3\n",
            "главный инженер           3\n",
            "инженер пто               2\n",
            "начальник производства    2\n",
            "директор                  2\n",
            "Name: jobTitle, dtype: int64\n"
          ]
        }
      ]
    }
  ]
}